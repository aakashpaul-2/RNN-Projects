{
  "nbformat": 4,
  "nbformat_minor": 0,
  "metadata": {
    "colab": {
      "name": "StockPrice_RNN.ipynb",
      "provenance": [],
      "collapsed_sections": [],
      "authorship_tag": "ABX9TyN5yoWkTw4EjfksUwiX14TU",
      "include_colab_link": true
    },
    "kernelspec": {
      "name": "python3",
      "display_name": "Python 3"
    }
  },
  "cells": [
    {
      "cell_type": "markdown",
      "metadata": {
        "id": "view-in-github",
        "colab_type": "text"
      },
      "source": [
        "<a href=\"https://colab.research.google.com/github/aakashpaul-2/RNN-Projects/blob/main/StockPrice_RNN.ipynb\" target=\"_parent\"><img src=\"https://colab.research.google.com/assets/colab-badge.svg\" alt=\"Open In Colab\"/></a>"
      ]
    },
    {
      "cell_type": "code",
      "metadata": {
        "id": "6zcu8IxgaNaU"
      },
      "source": [
        "# Stock market forecasting using RNN\n",
        "# Does well for a one step forecast (unrealistic case) but poor performance when it comes to multi step forecasting"
      ],
      "execution_count": null,
      "outputs": []
    },
    {
      "cell_type": "code",
      "metadata": {
        "id": "TztSzMcYiPT5"
      },
      "source": [
        "# imports\n",
        "import torch\n",
        "import torch.nn as nn \n",
        "import numpy as np\n",
        "import pandas as pd\n",
        "import matplotlib.pyplot as plt\n",
        "from sklearn.preprocessing import StandardScaler"
      ],
      "execution_count": null,
      "outputs": []
    },
    {
      "cell_type": "code",
      "metadata": {
        "id": "l6w4ekFjveJt"
      },
      "source": [
        "df = pd.read_csv('https://raw.githubusercontent.com/lazyprogrammer/machine_learning_examples/master/tf2.0/sbux.csv')"
      ],
      "execution_count": null,
      "outputs": []
    },
    {
      "cell_type": "code",
      "metadata": {
        "id": "CXdXonVFvu2b",
        "colab": {
          "base_uri": "https://localhost:8080/",
          "height": 204
        },
        "outputId": "e70a6f8e-1c6c-42bf-fa84-4544ff026c1f"
      },
      "source": [
        "df.head()"
      ],
      "execution_count": null,
      "outputs": [
        {
          "output_type": "execute_result",
          "data": {
            "text/html": [
              "<div>\n",
              "<style scoped>\n",
              "    .dataframe tbody tr th:only-of-type {\n",
              "        vertical-align: middle;\n",
              "    }\n",
              "\n",
              "    .dataframe tbody tr th {\n",
              "        vertical-align: top;\n",
              "    }\n",
              "\n",
              "    .dataframe thead th {\n",
              "        text-align: right;\n",
              "    }\n",
              "</style>\n",
              "<table border=\"1\" class=\"dataframe\">\n",
              "  <thead>\n",
              "    <tr style=\"text-align: right;\">\n",
              "      <th></th>\n",
              "      <th>date</th>\n",
              "      <th>open</th>\n",
              "      <th>high</th>\n",
              "      <th>low</th>\n",
              "      <th>close</th>\n",
              "      <th>volume</th>\n",
              "      <th>Name</th>\n",
              "    </tr>\n",
              "  </thead>\n",
              "  <tbody>\n",
              "    <tr>\n",
              "      <th>0</th>\n",
              "      <td>2013-02-08</td>\n",
              "      <td>27.920</td>\n",
              "      <td>28.325</td>\n",
              "      <td>27.920</td>\n",
              "      <td>28.185</td>\n",
              "      <td>7146296</td>\n",
              "      <td>SBUX</td>\n",
              "    </tr>\n",
              "    <tr>\n",
              "      <th>1</th>\n",
              "      <td>2013-02-11</td>\n",
              "      <td>28.260</td>\n",
              "      <td>28.260</td>\n",
              "      <td>27.930</td>\n",
              "      <td>28.070</td>\n",
              "      <td>5457354</td>\n",
              "      <td>SBUX</td>\n",
              "    </tr>\n",
              "    <tr>\n",
              "      <th>2</th>\n",
              "      <td>2013-02-12</td>\n",
              "      <td>28.000</td>\n",
              "      <td>28.275</td>\n",
              "      <td>27.975</td>\n",
              "      <td>28.130</td>\n",
              "      <td>8665592</td>\n",
              "      <td>SBUX</td>\n",
              "    </tr>\n",
              "    <tr>\n",
              "      <th>3</th>\n",
              "      <td>2013-02-13</td>\n",
              "      <td>28.230</td>\n",
              "      <td>28.230</td>\n",
              "      <td>27.750</td>\n",
              "      <td>27.915</td>\n",
              "      <td>7022056</td>\n",
              "      <td>SBUX</td>\n",
              "    </tr>\n",
              "    <tr>\n",
              "      <th>4</th>\n",
              "      <td>2013-02-14</td>\n",
              "      <td>27.765</td>\n",
              "      <td>27.905</td>\n",
              "      <td>27.675</td>\n",
              "      <td>27.775</td>\n",
              "      <td>8899188</td>\n",
              "      <td>SBUX</td>\n",
              "    </tr>\n",
              "  </tbody>\n",
              "</table>\n",
              "</div>"
            ],
            "text/plain": [
              "         date    open    high     low   close   volume  Name\n",
              "0  2013-02-08  27.920  28.325  27.920  28.185  7146296  SBUX\n",
              "1  2013-02-11  28.260  28.260  27.930  28.070  5457354  SBUX\n",
              "2  2013-02-12  28.000  28.275  27.975  28.130  8665592  SBUX\n",
              "3  2013-02-13  28.230  28.230  27.750  27.915  7022056  SBUX\n",
              "4  2013-02-14  27.765  27.905  27.675  27.775  8899188  SBUX"
            ]
          },
          "metadata": {
            "tags": []
          },
          "execution_count": 4
        }
      ]
    },
    {
      "cell_type": "code",
      "metadata": {
        "id": "XMe7_Gh1vzCE",
        "colab": {
          "base_uri": "https://localhost:8080/",
          "height": 204
        },
        "outputId": "85038b32-1ddc-424e-c5d6-93de1af7dc53"
      },
      "source": [
        "df.tail()"
      ],
      "execution_count": null,
      "outputs": [
        {
          "output_type": "execute_result",
          "data": {
            "text/html": [
              "<div>\n",
              "<style scoped>\n",
              "    .dataframe tbody tr th:only-of-type {\n",
              "        vertical-align: middle;\n",
              "    }\n",
              "\n",
              "    .dataframe tbody tr th {\n",
              "        vertical-align: top;\n",
              "    }\n",
              "\n",
              "    .dataframe thead th {\n",
              "        text-align: right;\n",
              "    }\n",
              "</style>\n",
              "<table border=\"1\" class=\"dataframe\">\n",
              "  <thead>\n",
              "    <tr style=\"text-align: right;\">\n",
              "      <th></th>\n",
              "      <th>date</th>\n",
              "      <th>open</th>\n",
              "      <th>high</th>\n",
              "      <th>low</th>\n",
              "      <th>close</th>\n",
              "      <th>volume</th>\n",
              "      <th>Name</th>\n",
              "    </tr>\n",
              "  </thead>\n",
              "  <tbody>\n",
              "    <tr>\n",
              "      <th>1254</th>\n",
              "      <td>2018-02-01</td>\n",
              "      <td>56.280</td>\n",
              "      <td>56.42</td>\n",
              "      <td>55.89</td>\n",
              "      <td>56.00</td>\n",
              "      <td>14690146</td>\n",
              "      <td>SBUX</td>\n",
              "    </tr>\n",
              "    <tr>\n",
              "      <th>1255</th>\n",
              "      <td>2018-02-02</td>\n",
              "      <td>55.900</td>\n",
              "      <td>56.32</td>\n",
              "      <td>55.70</td>\n",
              "      <td>55.77</td>\n",
              "      <td>15358909</td>\n",
              "      <td>SBUX</td>\n",
              "    </tr>\n",
              "    <tr>\n",
              "      <th>1256</th>\n",
              "      <td>2018-02-05</td>\n",
              "      <td>55.530</td>\n",
              "      <td>56.26</td>\n",
              "      <td>54.57</td>\n",
              "      <td>54.69</td>\n",
              "      <td>16059955</td>\n",
              "      <td>SBUX</td>\n",
              "    </tr>\n",
              "    <tr>\n",
              "      <th>1257</th>\n",
              "      <td>2018-02-06</td>\n",
              "      <td>53.685</td>\n",
              "      <td>56.06</td>\n",
              "      <td>53.56</td>\n",
              "      <td>55.61</td>\n",
              "      <td>17415065</td>\n",
              "      <td>SBUX</td>\n",
              "    </tr>\n",
              "    <tr>\n",
              "      <th>1258</th>\n",
              "      <td>2018-02-07</td>\n",
              "      <td>55.080</td>\n",
              "      <td>55.43</td>\n",
              "      <td>54.44</td>\n",
              "      <td>54.46</td>\n",
              "      <td>13927022</td>\n",
              "      <td>SBUX</td>\n",
              "    </tr>\n",
              "  </tbody>\n",
              "</table>\n",
              "</div>"
            ],
            "text/plain": [
              "            date    open   high    low  close    volume  Name\n",
              "1254  2018-02-01  56.280  56.42  55.89  56.00  14690146  SBUX\n",
              "1255  2018-02-02  55.900  56.32  55.70  55.77  15358909  SBUX\n",
              "1256  2018-02-05  55.530  56.26  54.57  54.69  16059955  SBUX\n",
              "1257  2018-02-06  53.685  56.06  53.56  55.61  17415065  SBUX\n",
              "1258  2018-02-07  55.080  55.43  54.44  54.46  13927022  SBUX"
            ]
          },
          "metadata": {
            "tags": []
          },
          "execution_count": 5
        }
      ]
    },
    {
      "cell_type": "code",
      "metadata": {
        "id": "Qnr2VAoXv5ak"
      },
      "source": [
        " series = df[\"close\"].values.reshape(-1,1)"
      ],
      "execution_count": null,
      "outputs": []
    },
    {
      "cell_type": "code",
      "metadata": {
        "id": "hRwY2fu3wqGU",
        "colab": {
          "base_uri": "https://localhost:8080/",
          "height": 136
        },
        "outputId": "62c18925-3e0f-48d2-8dc4-d60af16f811f"
      },
      "source": [
        "series"
      ],
      "execution_count": null,
      "outputs": [
        {
          "output_type": "execute_result",
          "data": {
            "text/plain": [
              "array([[28.185],\n",
              "       [28.07 ],\n",
              "       [28.13 ],\n",
              "       ...,\n",
              "       [54.69 ],\n",
              "       [55.61 ],\n",
              "       [54.46 ]])"
            ]
          },
          "metadata": {
            "tags": []
          },
          "execution_count": 30
        }
      ]
    },
    {
      "cell_type": "code",
      "metadata": {
        "id": "gdHVlnv6wqqk"
      },
      "source": [
        "scaler = StandardScaler()\n",
        "scaler.fit(series[:len(series) // 2])\n",
        "series = scaler.transform(series).flatten()"
      ],
      "execution_count": null,
      "outputs": []
    },
    {
      "cell_type": "code",
      "metadata": {
        "id": "IWd7SQlHziYI",
        "colab": {
          "base_uri": "https://localhost:8080/",
          "height": 34
        },
        "outputId": "10501ac6-c61d-4afd-f6ca-b796e6232e35"
      },
      "source": [
        "len(series) // 1.5"
      ],
      "execution_count": null,
      "outputs": [
        {
          "output_type": "execute_result",
          "data": {
            "text/plain": [
              "839.0"
            ]
          },
          "metadata": {
            "tags": []
          },
          "execution_count": 24
        }
      ]
    },
    {
      "cell_type": "code",
      "metadata": {
        "id": "YNCMwdghzj8F",
        "colab": {
          "base_uri": "https://localhost:8080/",
          "height": 34
        },
        "outputId": "3cddfb74-f449-4d21-d8e8-da8a4473c61b"
      },
      "source": [
        "len(series)"
      ],
      "execution_count": null,
      "outputs": [
        {
          "output_type": "execute_result",
          "data": {
            "text/plain": [
              "1259"
            ]
          },
          "metadata": {
            "tags": []
          },
          "execution_count": 25
        }
      ]
    },
    {
      "cell_type": "code",
      "metadata": {
        "id": "k_mf_67lzmFl",
        "colab": {
          "base_uri": "https://localhost:8080/",
          "height": 51
        },
        "outputId": "8d5e0753-7242-45d5-c9a3-44e3a44685f1"
      },
      "source": [
        "series"
      ],
      "execution_count": null,
      "outputs": [
        {
          "output_type": "execute_result",
          "data": {
            "text/plain": [
              "array([-1.62500489, -1.64174953, -1.6330132 , ...,  2.2342704 ,\n",
              "        2.36822751,  2.20078112])"
            ]
          },
          "metadata": {
            "tags": []
          },
          "execution_count": 32
        }
      ]
    },
    {
      "cell_type": "code",
      "metadata": {
        "id": "IXSQvho10E1N",
        "colab": {
          "base_uri": "https://localhost:8080/",
          "height": 34
        },
        "outputId": "00bbf04d-19e4-40d0-c58a-c4d667042319"
      },
      "source": [
        "T = 20\n",
        "D = 1\n",
        "X = []\n",
        "Y = []\n",
        "\n",
        "for t in range(len(series)-T):\n",
        "  x = series[t:t+T]\n",
        "  X.append(x)\n",
        "  y = series[t+T]\n",
        "  Y.append(y)\n",
        "\n",
        "X = np.array(X).reshape(-1,T,1)\n",
        "Y = np.array(Y).reshape(-1,1)\n",
        "N = len(X)\n",
        "print(\"X.SHAPE\", X.shape, \"y.shape\", Y.shape)"
      ],
      "execution_count": null,
      "outputs": [
        {
          "output_type": "stream",
          "text": [
            "X.SHAPE (1239, 20, 1) y.shape (1239, 1)\n"
          ],
          "name": "stdout"
        }
      ]
    },
    {
      "cell_type": "code",
      "metadata": {
        "id": "SqvNVXGZ9Jfz"
      },
      "source": [
        "#AUTOREGRESSIVE RNN MODELS\n",
        "class RNN(nn.Module):\n",
        "  def __init__(self, n_inputs, n_hidden, n_rnnlayers,n_outputs):\n",
        "    super(RNN,self).__init__()\n",
        "    self.D = n_inputs\n",
        "    self.M = n_hidden\n",
        "    self.L = n_rnnlayers\n",
        "    self.K = n_outputs\n",
        "\n",
        "    self.rnn = nn.LSTM(input_size=self.D, hidden_size=self.M, num_layers=self.L, batch_first=True)\n",
        "    self.fc = nn.Linear(self.M, self.K)\n",
        "\n",
        "  def forward(self,X):\n",
        "    h0 = torch.zeros(self.L, X.size(0),self.M).to(device)\n",
        "    c0 = torch.zeros(self.L, X.size(0),self.M).to(device)\n",
        "\n",
        "    out,_ = self.rnn(X,(h0,c0))\n",
        "\n",
        "    out = self.fc(out[:,-1,:])\n",
        "    return out"
      ],
      "execution_count": null,
      "outputs": []
    },
    {
      "cell_type": "code",
      "metadata": {
        "id": "j8wXu-7bJ1dH",
        "colab": {
          "base_uri": "https://localhost:8080/",
          "height": 102
        },
        "outputId": "12c0c591-a084-44b3-9533-a64aa51d4b37"
      },
      "source": [
        "model = RNN(1,5,1,1)\n",
        "device = torch.device(\"cuda:0\" if torch.cuda.is_available() else \"cpu\")\n",
        "print(device)\n",
        "model.to(device)"
      ],
      "execution_count": null,
      "outputs": [
        {
          "output_type": "stream",
          "text": [
            "cpu\n"
          ],
          "name": "stdout"
        },
        {
          "output_type": "execute_result",
          "data": {
            "text/plain": [
              "RNN(\n",
              "  (rnn): LSTM(1, 5, batch_first=True)\n",
              "  (fc): Linear(in_features=5, out_features=1, bias=True)\n",
              ")"
            ]
          },
          "metadata": {
            "tags": []
          },
          "execution_count": 37
        }
      ]
    },
    {
      "cell_type": "code",
      "metadata": {
        "id": "q2klOGSQJ1yk"
      },
      "source": [
        "criterion = nn.MSELoss()\n",
        "optimizer = torch.optim.Adam(model.parameters(), lr=0.05)"
      ],
      "execution_count": null,
      "outputs": []
    },
    {
      "cell_type": "code",
      "metadata": {
        "id": "gTzLdJAJKNLE"
      },
      "source": [
        "def full_gd(model,\n",
        "            criterion,\n",
        "            optimizer,\n",
        "            X_train,\n",
        "            y_train,\n",
        "            X_test,\n",
        "            y_test,\n",
        "            epochs=200):\n",
        "\n",
        "  # Stuff to store\n",
        "  train_losses = np.zeros(epochs)\n",
        "  test_losses = np.zeros(epochs)\n",
        "\n",
        "  for it in range(epochs):\n",
        "    # zero the parameter gradients\n",
        "    optimizer.zero_grad()\n",
        "\n",
        "    # Forward pass\n",
        "    outputs = model(X_train)\n",
        "    loss = criterion(outputs, y_train)\n",
        "      \n",
        "    # Backward and optimize\n",
        "    loss.backward()\n",
        "    optimizer.step()\n",
        "\n",
        "    # Save losses\n",
        "    train_losses[it] = loss.item()\n",
        "\n",
        "    # Test loss\n",
        "    test_outputs = model(X_test)\n",
        "    test_loss = criterion(test_outputs, y_test)\n",
        "    test_losses[it] = test_loss.item()\n",
        "      \n",
        "    if (it + 1) % 5 == 0:\n",
        "      print(f'Epoch {it+1}/{epochs}, Train Loss: {loss.item():.4f}, Test Loss: {test_loss.item():.4f}')\n",
        "  \n",
        "  return train_losses, test_losses"
      ],
      "execution_count": null,
      "outputs": []
    },
    {
      "cell_type": "code",
      "metadata": {
        "id": "C1tSV9AcKNuc"
      },
      "source": [
        "# Make inputs and targets\n",
        "X_train = torch.from_numpy(X[:-N//2].astype(np.float32))\n",
        "y_train = torch.from_numpy(Y[:-N//2].astype(np.float32))\n",
        "X_test = torch.from_numpy(X[-N//2:].astype(np.float32))\n",
        "y_test = torch.from_numpy(Y[-N//2:].astype(np.float32))"
      ],
      "execution_count": null,
      "outputs": []
    },
    {
      "cell_type": "code",
      "metadata": {
        "id": "k8PCvlruKbhF"
      },
      "source": [
        "# move data to GPU\n",
        "X_train, y_train = X_train.to(device), y_train.to(device)\n",
        "X_test, y_test = X_test.to(device), y_test.to(device)"
      ],
      "execution_count": null,
      "outputs": []
    },
    {
      "cell_type": "code",
      "metadata": {
        "id": "6-lPnC7UKdwV",
        "colab": {
          "base_uri": "https://localhost:8080/",
          "height": 697
        },
        "outputId": "437b5cfa-6af6-4446-d938-ee5635c18e3b"
      },
      "source": [
        "train_losses, test_losses = full_gd(model,\n",
        "                                    criterion,\n",
        "                                    optimizer,\n",
        "                                    X_train,\n",
        "                                    y_train,\n",
        "                                    X_test,\n",
        "                                    y_test)"
      ],
      "execution_count": null,
      "outputs": [
        {
          "output_type": "stream",
          "text": [
            "Epoch 5/200, Train Loss: 0.4298, Test Loss: 2.5906\n",
            "Epoch 10/200, Train Loss: 0.1595, Test Loss: 0.6452\n",
            "Epoch 15/200, Train Loss: 0.0746, Test Loss: 0.4478\n",
            "Epoch 20/200, Train Loss: 0.0367, Test Loss: 0.4065\n",
            "Epoch 25/200, Train Loss: 0.0160, Test Loss: 0.1915\n",
            "Epoch 30/200, Train Loss: 0.0167, Test Loss: 0.1145\n",
            "Epoch 35/200, Train Loss: 0.0108, Test Loss: 0.1103\n",
            "Epoch 40/200, Train Loss: 0.0092, Test Loss: 0.0733\n",
            "Epoch 45/200, Train Loss: 0.0082, Test Loss: 0.0703\n",
            "Epoch 50/200, Train Loss: 0.0076, Test Loss: 0.0904\n",
            "Epoch 55/200, Train Loss: 0.0068, Test Loss: 0.0640\n",
            "Epoch 60/200, Train Loss: 0.0069, Test Loss: 0.0532\n",
            "Epoch 65/200, Train Loss: 0.0065, Test Loss: 0.0609\n",
            "Epoch 70/200, Train Loss: 0.0063, Test Loss: 0.0517\n",
            "Epoch 75/200, Train Loss: 0.0063, Test Loss: 0.0487\n",
            "Epoch 80/200, Train Loss: 0.0062, Test Loss: 0.0461\n",
            "Epoch 85/200, Train Loss: 0.0061, Test Loss: 0.0431\n",
            "Epoch 90/200, Train Loss: 0.0061, Test Loss: 0.0444\n",
            "Epoch 95/200, Train Loss: 0.0060, Test Loss: 0.0421\n",
            "Epoch 100/200, Train Loss: 0.0060, Test Loss: 0.0407\n",
            "Epoch 105/200, Train Loss: 0.0059, Test Loss: 0.0404\n",
            "Epoch 110/200, Train Loss: 0.0059, Test Loss: 0.0394\n",
            "Epoch 115/200, Train Loss: 0.0059, Test Loss: 0.0388\n",
            "Epoch 120/200, Train Loss: 0.0058, Test Loss: 0.0374\n",
            "Epoch 125/200, Train Loss: 0.0058, Test Loss: 0.0370\n",
            "Epoch 130/200, Train Loss: 0.0058, Test Loss: 0.0361\n",
            "Epoch 135/200, Train Loss: 0.0057, Test Loss: 0.0353\n",
            "Epoch 140/200, Train Loss: 0.0057, Test Loss: 0.0346\n",
            "Epoch 145/200, Train Loss: 0.0057, Test Loss: 0.0339\n",
            "Epoch 150/200, Train Loss: 0.0057, Test Loss: 0.0334\n",
            "Epoch 155/200, Train Loss: 0.0057, Test Loss: 0.0327\n",
            "Epoch 160/200, Train Loss: 0.0056, Test Loss: 0.0321\n",
            "Epoch 165/200, Train Loss: 0.0056, Test Loss: 0.0315\n",
            "Epoch 170/200, Train Loss: 0.0056, Test Loss: 0.0310\n",
            "Epoch 175/200, Train Loss: 0.0056, Test Loss: 0.0305\n",
            "Epoch 180/200, Train Loss: 0.0056, Test Loss: 0.0300\n",
            "Epoch 185/200, Train Loss: 0.0056, Test Loss: 0.0295\n",
            "Epoch 190/200, Train Loss: 0.0056, Test Loss: 0.0290\n",
            "Epoch 195/200, Train Loss: 0.0055, Test Loss: 0.0286\n",
            "Epoch 200/200, Train Loss: 0.0055, Test Loss: 0.0281\n"
          ],
          "name": "stdout"
        }
      ]
    },
    {
      "cell_type": "code",
      "metadata": {
        "id": "edq8gXA6KfV9"
      },
      "source": [
        "#one step prediction\n",
        "validation_target = Y\n",
        "validation_predictions = []\n",
        "\n",
        "i = 0\n",
        "\n",
        "X_on_device = torch.from_numpy(X.astype(np.float32)).to(device)\n",
        "\n",
        "while len(validation_predictions) < len(validation_target):\n",
        "  input_ = X_on_device[i].reshape(-1,T,1)\n",
        "  p = model(input_)[0,0].item()\n",
        "  i += 1\n",
        "\n",
        "\n",
        "  validation_predictions.append(p)"
      ],
      "execution_count": null,
      "outputs": []
    },
    {
      "cell_type": "code",
      "metadata": {
        "id": "QC9mmHp0NQ_p",
        "colab": {
          "base_uri": "https://localhost:8080/",
          "height": 282
        },
        "outputId": "bfae73b8-b34d-45ba-c865-fe6135312fdd"
      },
      "source": [
        "plt.plot(validation_target, label='forecast target')\n",
        "plt.plot(validation_predictions, label='forecast prediction')\n",
        "plt.legend()\n",
        "\n",
        "# one step predictions are misleading - uses all previously available data to predict 1 step\n",
        "# to forecast accuratly predictions must be made using the previously forecasted outcome, i.e. multistep"
      ],
      "execution_count": null,
      "outputs": [
        {
          "output_type": "execute_result",
          "data": {
            "text/plain": [
              "<matplotlib.legend.Legend at 0x7f3c20061f98>"
            ]
          },
          "metadata": {
            "tags": []
          },
          "execution_count": 46
        },
        {
          "output_type": "display_data",
          "data": {
            "image/png": "[encoded data removed]",
            "text/plain": [
              "<Figure size 432x288 with 1 Axes>"
            ]
          },
          "metadata": {
            "tags": [],
            "needs_background": "light"
          }
        }
      ]
    },
    {
      "cell_type": "code",
      "metadata": {
        "id": "TZqTS655Nqbl",
        "colab": {
          "base_uri": "https://localhost:8080/",
          "height": 68
        },
        "outputId": "638a6a48-2715-43dd-bf48-82b281eab8f1"
      },
      "source": [
        "X_test[0].view(T)"
      ],
      "execution_count": null,
      "outputs": [
        {
          "output_type": "execute_result",
          "data": {
            "text/plain": [
              "tensor([2.5677, 2.5910, 2.6449, 2.7250, 2.7060, 2.7439, 2.8181, 2.8633, 2.6041,\n",
              "        2.5997, 2.4643, 2.4760, 2.4803, 2.5488, 2.5852, 2.6784, 2.6915, 2.6565,\n",
              "        2.3973, 1.9649])"
            ]
          },
          "metadata": {
            "tags": []
          },
          "execution_count": 50
        }
      ]
    },
    {
      "cell_type": "code",
      "metadata": {
        "id": "vf0v2uKNNrjV",
        "colab": {
          "base_uri": "https://localhost:8080/",
          "height": 34
        },
        "outputId": "b1662e63-d71c-4a84-fd6b-f7e4d37f9eae"
      },
      "source": [
        "p[0,0]"
      ],
      "execution_count": null,
      "outputs": [
        {
          "output_type": "execute_result",
          "data": {
            "text/plain": [
              "tensor(2.4328, grad_fn=<SelectBackward>)"
            ]
          },
          "metadata": {
            "tags": []
          },
          "execution_count": 56
        }
      ]
    },
    {
      "cell_type": "code",
      "metadata": {
        "id": "W-mMQiRmNS21"
      },
      "source": [
        "# multistep forcast\n",
        "\n",
        "validation_target = Y[-N//2:]\n",
        "validation_predictions = []\n",
        "\n",
        "last_x = X_test[0].view(T)\n",
        "\n",
        "while len(validation_predictions) < len(validation_target):\n",
        "  input_ = last_x.reshape(-1,T,1)\n",
        "  p = model(input_)\n",
        "  \n",
        "\n",
        "  validation_predictions.append(p[0,0].item())\n",
        "\n",
        "  last_x = torch.cat((last_x[1:],p[0]))\n"
      ],
      "execution_count": null,
      "outputs": []
    },
    {
      "cell_type": "code",
      "metadata": {
        "id": "mozXDD1-QIKH",
        "colab": {
          "base_uri": "https://localhost:8080/",
          "height": 68
        },
        "outputId": "8ac1a38b-7744-4e1d-f3e5-37bb42688c6a"
      },
      "source": [
        "last_x[1:]"
      ],
      "execution_count": null,
      "outputs": [
        {
          "output_type": "execute_result",
          "data": {
            "text/plain": [
              "tensor([2.4328, 2.4328, 2.4328, 2.4328, 2.4328, 2.4328, 2.4328, 2.4328, 2.4328,\n",
              "        2.4328, 2.4328, 2.4328, 2.4328, 2.4328, 2.4328, 2.4328, 2.4328, 2.4328,\n",
              "        2.4328], grad_fn=<SliceBackward>)"
            ]
          },
          "metadata": {
            "tags": []
          },
          "execution_count": 58
        }
      ]
    },
    {
      "cell_type": "code",
      "metadata": {
        "id": "Hfd_jos-QrRv",
        "colab": {
          "base_uri": "https://localhost:8080/",
          "height": 68
        },
        "outputId": "27c3688c-261d-4729-e7cf-487f59a15d1e"
      },
      "source": [
        "last_x"
      ],
      "execution_count": null,
      "outputs": [
        {
          "output_type": "execute_result",
          "data": {
            "text/plain": [
              "tensor([2.4328, 2.4328, 2.4328, 2.4328, 2.4328, 2.4328, 2.4328, 2.4328, 2.4328,\n",
              "        2.4328, 2.4328, 2.4328, 2.4328, 2.4328, 2.4328, 2.4328, 2.4328, 2.4328,\n",
              "        2.4328, 2.4328], grad_fn=<CatBackward>)"
            ]
          },
          "metadata": {
            "tags": []
          },
          "execution_count": 59
        }
      ]
    },
    {
      "cell_type": "code",
      "metadata": {
        "id": "TloZM0AGQvmv",
        "colab": {
          "base_uri": "https://localhost:8080/",
          "height": 34
        },
        "outputId": "63e4a958-aa0c-4c43-cc82-98b85c165492"
      },
      "source": [
        "p[0]"
      ],
      "execution_count": null,
      "outputs": [
        {
          "output_type": "execute_result",
          "data": {
            "text/plain": [
              "tensor([2.4328], grad_fn=<SelectBackward>)"
            ]
          },
          "metadata": {
            "tags": []
          },
          "execution_count": 60
        }
      ]
    },
    {
      "cell_type": "code",
      "metadata": {
        "id": "o0CJPEMaQ3Hn",
        "colab": {
          "base_uri": "https://localhost:8080/",
          "height": 282
        },
        "outputId": "87f274ed-1225-41d6-b8ac-fc2d1bd32d4b"
      },
      "source": [
        "plt.plot(validation_target, label='forecast target')\n",
        "plt.plot(validation_predictions, label='forecast prediction')\n",
        "plt.legend()\n",
        "# result here not as good!"
      ],
      "execution_count": null,
      "outputs": [
        {
          "output_type": "execute_result",
          "data": {
            "text/plain": [
              "<matplotlib.legend.Legend at 0x7f3c1ffffac8>"
            ]
          },
          "metadata": {
            "tags": []
          },
          "execution_count": 63
        },
        {
          "output_type": "display_data",
          "data": {
            "image/png": "[encoded data removed]",
            "text/plain": [
              "<Figure size 432x288 with 1 Axes>"
            ]
          },
          "metadata": {
            "tags": [],
            "needs_background": "light"
          }
        }
      ]
    },
    {
      "cell_type": "code",
      "metadata": {
        "id": "CT1VWjyJQ7Gb"
      },
      "source": [
        "df[\"PrevClose\"] = df[\"close\"].shift(1)"
      ],
      "execution_count": null,
      "outputs": []
    },
    {
      "cell_type": "code",
      "metadata": {
        "id": "FkgbTlchR20P",
        "colab": {
          "base_uri": "https://localhost:8080/",
          "height": 204
        },
        "outputId": "4c3980bf-7250-4e7d-e8b9-d689036cdd9e"
      },
      "source": [
        "df.head()"
      ],
      "execution_count": null,
      "outputs": [
        {
          "output_type": "execute_result",
          "data": {
            "text/html": [
              "<div>\n",
              "<style scoped>\n",
              "    .dataframe tbody tr th:only-of-type {\n",
              "        vertical-align: middle;\n",
              "    }\n",
              "\n",
              "    .dataframe tbody tr th {\n",
              "        vertical-align: top;\n",
              "    }\n",
              "\n",
              "    .dataframe thead th {\n",
              "        text-align: right;\n",
              "    }\n",
              "</style>\n",
              "<table border=\"1\" class=\"dataframe\">\n",
              "  <thead>\n",
              "    <tr style=\"text-align: right;\">\n",
              "      <th></th>\n",
              "      <th>date</th>\n",
              "      <th>open</th>\n",
              "      <th>high</th>\n",
              "      <th>low</th>\n",
              "      <th>close</th>\n",
              "      <th>volume</th>\n",
              "      <th>Name</th>\n",
              "      <th>PrevClose</th>\n",
              "    </tr>\n",
              "  </thead>\n",
              "  <tbody>\n",
              "    <tr>\n",
              "      <th>0</th>\n",
              "      <td>2013-02-08</td>\n",
              "      <td>27.920</td>\n",
              "      <td>28.325</td>\n",
              "      <td>27.920</td>\n",
              "      <td>28.185</td>\n",
              "      <td>7146296</td>\n",
              "      <td>SBUX</td>\n",
              "      <td>NaN</td>\n",
              "    </tr>\n",
              "    <tr>\n",
              "      <th>1</th>\n",
              "      <td>2013-02-11</td>\n",
              "      <td>28.260</td>\n",
              "      <td>28.260</td>\n",
              "      <td>27.930</td>\n",
              "      <td>28.070</td>\n",
              "      <td>5457354</td>\n",
              "      <td>SBUX</td>\n",
              "      <td>28.185</td>\n",
              "    </tr>\n",
              "    <tr>\n",
              "      <th>2</th>\n",
              "      <td>2013-02-12</td>\n",
              "      <td>28.000</td>\n",
              "      <td>28.275</td>\n",
              "      <td>27.975</td>\n",
              "      <td>28.130</td>\n",
              "      <td>8665592</td>\n",
              "      <td>SBUX</td>\n",
              "      <td>28.070</td>\n",
              "    </tr>\n",
              "    <tr>\n",
              "      <th>3</th>\n",
              "      <td>2013-02-13</td>\n",
              "      <td>28.230</td>\n",
              "      <td>28.230</td>\n",
              "      <td>27.750</td>\n",
              "      <td>27.915</td>\n",
              "      <td>7022056</td>\n",
              "      <td>SBUX</td>\n",
              "      <td>28.130</td>\n",
              "    </tr>\n",
              "    <tr>\n",
              "      <th>4</th>\n",
              "      <td>2013-02-14</td>\n",
              "      <td>27.765</td>\n",
              "      <td>27.905</td>\n",
              "      <td>27.675</td>\n",
              "      <td>27.775</td>\n",
              "      <td>8899188</td>\n",
              "      <td>SBUX</td>\n",
              "      <td>27.915</td>\n",
              "    </tr>\n",
              "  </tbody>\n",
              "</table>\n",
              "</div>"
            ],
            "text/plain": [
              "         date    open    high     low   close   volume  Name  PrevClose\n",
              "0  2013-02-08  27.920  28.325  27.920  28.185  7146296  SBUX        NaN\n",
              "1  2013-02-11  28.260  28.260  27.930  28.070  5457354  SBUX     28.185\n",
              "2  2013-02-12  28.000  28.275  27.975  28.130  8665592  SBUX     28.070\n",
              "3  2013-02-13  28.230  28.230  27.750  27.915  7022056  SBUX     28.130\n",
              "4  2013-02-14  27.765  27.905  27.675  27.775  8899188  SBUX     27.915"
            ]
          },
          "metadata": {
            "tags": []
          },
          "execution_count": 65
        }
      ]
    },
    {
      "cell_type": "code",
      "metadata": {
        "id": "2SuGEqLxR3iP"
      },
      "source": [
        "# Try forecasting the returns per day instead\n",
        "df[\"Return\"] = (df[\"close\"] - df[\"PrevClose\"] )/ df[\"PrevClose\"]"
      ],
      "execution_count": null,
      "outputs": []
    },
    {
      "cell_type": "code",
      "metadata": {
        "id": "9o9sOrdKSM0X",
        "colab": {
          "base_uri": "https://localhost:8080/",
          "height": 204
        },
        "outputId": "515b130e-2530-467e-e024-6b0e735da7a0"
      },
      "source": [
        "df.head()"
      ],
      "execution_count": null,
      "outputs": [
        {
          "output_type": "execute_result",
          "data": {
            "text/html": [
              "<div>\n",
              "<style scoped>\n",
              "    .dataframe tbody tr th:only-of-type {\n",
              "        vertical-align: middle;\n",
              "    }\n",
              "\n",
              "    .dataframe tbody tr th {\n",
              "        vertical-align: top;\n",
              "    }\n",
              "\n",
              "    .dataframe thead th {\n",
              "        text-align: right;\n",
              "    }\n",
              "</style>\n",
              "<table border=\"1\" class=\"dataframe\">\n",
              "  <thead>\n",
              "    <tr style=\"text-align: right;\">\n",
              "      <th></th>\n",
              "      <th>date</th>\n",
              "      <th>open</th>\n",
              "      <th>high</th>\n",
              "      <th>low</th>\n",
              "      <th>close</th>\n",
              "      <th>volume</th>\n",
              "      <th>Name</th>\n",
              "      <th>PrevClose</th>\n",
              "      <th>Return</th>\n",
              "    </tr>\n",
              "  </thead>\n",
              "  <tbody>\n",
              "    <tr>\n",
              "      <th>0</th>\n",
              "      <td>2013-02-08</td>\n",
              "      <td>27.920</td>\n",
              "      <td>28.325</td>\n",
              "      <td>27.920</td>\n",
              "      <td>28.185</td>\n",
              "      <td>7146296</td>\n",
              "      <td>SBUX</td>\n",
              "      <td>NaN</td>\n",
              "      <td>NaN</td>\n",
              "    </tr>\n",
              "    <tr>\n",
              "      <th>1</th>\n",
              "      <td>2013-02-11</td>\n",
              "      <td>28.260</td>\n",
              "      <td>28.260</td>\n",
              "      <td>27.930</td>\n",
              "      <td>28.070</td>\n",
              "      <td>5457354</td>\n",
              "      <td>SBUX</td>\n",
              "      <td>28.185</td>\n",
              "      <td>-0.004080</td>\n",
              "    </tr>\n",
              "    <tr>\n",
              "      <th>2</th>\n",
              "      <td>2013-02-12</td>\n",
              "      <td>28.000</td>\n",
              "      <td>28.275</td>\n",
              "      <td>27.975</td>\n",
              "      <td>28.130</td>\n",
              "      <td>8665592</td>\n",
              "      <td>SBUX</td>\n",
              "      <td>28.070</td>\n",
              "      <td>0.002138</td>\n",
              "    </tr>\n",
              "    <tr>\n",
              "      <th>3</th>\n",
              "      <td>2013-02-13</td>\n",
              "      <td>28.230</td>\n",
              "      <td>28.230</td>\n",
              "      <td>27.750</td>\n",
              "      <td>27.915</td>\n",
              "      <td>7022056</td>\n",
              "      <td>SBUX</td>\n",
              "      <td>28.130</td>\n",
              "      <td>-0.007643</td>\n",
              "    </tr>\n",
              "    <tr>\n",
              "      <th>4</th>\n",
              "      <td>2013-02-14</td>\n",
              "      <td>27.765</td>\n",
              "      <td>27.905</td>\n",
              "      <td>27.675</td>\n",
              "      <td>27.775</td>\n",
              "      <td>8899188</td>\n",
              "      <td>SBUX</td>\n",
              "      <td>27.915</td>\n",
              "      <td>-0.005015</td>\n",
              "    </tr>\n",
              "  </tbody>\n",
              "</table>\n",
              "</div>"
            ],
            "text/plain": [
              "         date    open    high     low  ...   volume  Name PrevClose    Return\n",
              "0  2013-02-08  27.920  28.325  27.920  ...  7146296  SBUX       NaN       NaN\n",
              "1  2013-02-11  28.260  28.260  27.930  ...  5457354  SBUX    28.185 -0.004080\n",
              "2  2013-02-12  28.000  28.275  27.975  ...  8665592  SBUX    28.070  0.002138\n",
              "3  2013-02-13  28.230  28.230  27.750  ...  7022056  SBUX    28.130 -0.007643\n",
              "4  2013-02-14  27.765  27.905  27.675  ...  8899188  SBUX    27.915 -0.005015\n",
              "\n",
              "[5 rows x 9 columns]"
            ]
          },
          "metadata": {
            "tags": []
          },
          "execution_count": 67
        }
      ]
    },
    {
      "cell_type": "code",
      "metadata": {
        "id": "8mELIQZOSNq_",
        "colab": {
          "base_uri": "https://localhost:8080/",
          "height": 282
        },
        "outputId": "12ad83d0-8799-4652-de1e-02272270c892"
      },
      "source": [
        "df[\"Return\"].plot()"
      ],
      "execution_count": null,
      "outputs": [
        {
          "output_type": "execute_result",
          "data": {
            "text/plain": [
              "<matplotlib.axes._subplots.AxesSubplot at 0x7f3c1ff7ef60>"
            ]
          },
          "metadata": {
            "tags": []
          },
          "execution_count": 68
        },
        {
          "output_type": "display_data",
          "data": {
            "image/png": "[encoded data removed]",
            "text/plain": [
              "<Figure size 432x288 with 1 Axes>"
            ]
          },
          "metadata": {
            "tags": [],
            "needs_background": "light"
          }
        }
      ]
    },
    {
      "cell_type": "code",
      "metadata": {
        "id": "kLy_cNPkSUo3",
        "colab": {
          "base_uri": "https://localhost:8080/",
          "height": 282
        },
        "outputId": "4f742646-887a-4042-c133-47b13894ca9f"
      },
      "source": [
        "df[\"Return\"].hist()"
      ],
      "execution_count": null,
      "outputs": [
        {
          "output_type": "execute_result",
          "data": {
            "text/plain": [
              "<matplotlib.axes._subplots.AxesSubplot at 0x7f3c1ff7ab38>"
            ]
          },
          "metadata": {
            "tags": []
          },
          "execution_count": 69
        },
        {
          "output_type": "display_data",
          "data": {
            "image/png": "[encoded data removed]",
            "text/plain": [
              "<Figure size 432x288 with 1 Axes>"
            ]
          },
          "metadata": {
            "tags": [],
            "needs_background": "light"
          }
        }
      ]
    },
    {
      "cell_type": "code",
      "metadata": {
        "id": "PNp5Q83SSeXv"
      },
      "source": [
        "series = df[\"Return\"].values[1:].reshape(-1,1)"
      ],
      "execution_count": null,
      "outputs": []
    },
    {
      "cell_type": "code",
      "metadata": {
        "id": "dszvd4lMSsvH",
        "colab": {
          "base_uri": "https://localhost:8080/",
          "height": 51
        },
        "outputId": "dce258e9-16f4-495c-d96d-af00254666fd"
      },
      "source": [
        "series"
      ],
      "execution_count": null,
      "outputs": [
        {
          "output_type": "execute_result",
          "data": {
            "text/plain": [
              "array([-0.43811722,  0.08061497, -0.73536414, ..., -1.71332483,\n",
              "        1.30572463, -1.82299002])"
            ]
          },
          "metadata": {
            "tags": []
          },
          "execution_count": 79
        }
      ]
    },
    {
      "cell_type": "code",
      "metadata": {
        "id": "Yw76VnQVStNf"
      },
      "source": [
        "scaler = StandardScaler()\n",
        "scaler.fit(series[:len(series)//2])\n",
        "series = scaler.transform(series).flatten()\n"
      ],
      "execution_count": null,
      "outputs": []
    },
    {
      "cell_type": "code",
      "metadata": {
        "id": "tuYWK6hES75P",
        "colab": {
          "base_uri": "https://localhost:8080/",
          "height": 34
        },
        "outputId": "1ece0a09-c372-4924-f2e9-a4d4cb2b7fd9"
      },
      "source": [
        "T = 20\n",
        "D = 1\n",
        "X = []\n",
        "Y = []\n",
        "\n",
        "for t in range(len(series)-T):\n",
        "  x = series[t:t+T]\n",
        "  X.append(x)\n",
        "  y = series[t+T]\n",
        "  Y.append(y)\n",
        "\n",
        "X = np.array(X).reshape(-1,T,1)\n",
        "Y = np.array(Y).reshape(-1,1)\n",
        "N = len(X)\n",
        "print(\"X.SHAPE\", X.shape, \"y.shape\", Y.shape)"
      ],
      "execution_count": null,
      "outputs": [
        {
          "output_type": "stream",
          "text": [
            "X.SHAPE (1238, 20, 1) y.shape (1238, 1)\n"
          ],
          "name": "stdout"
        }
      ]
    },
    {
      "cell_type": "code",
      "metadata": {
        "id": "Klq-KgxHTX2o",
        "colab": {
          "base_uri": "https://localhost:8080/",
          "height": 85
        },
        "outputId": "b42aedc6-6908-46f5-d99f-cc45176e9ceb"
      },
      "source": [
        "model = RNN(1,5,1,1)\n",
        "model.to(device)"
      ],
      "execution_count": null,
      "outputs": [
        {
          "output_type": "execute_result",
          "data": {
            "text/plain": [
              "RNN(\n",
              "  (rnn): LSTM(1, 5, batch_first=True)\n",
              "  (fc): Linear(in_features=5, out_features=1, bias=True)\n",
              ")"
            ]
          },
          "metadata": {
            "tags": []
          },
          "execution_count": 81
        }
      ]
    },
    {
      "cell_type": "code",
      "metadata": {
        "id": "Cjv7gXqcTfff"
      },
      "source": [
        "criterion = nn.MSELoss()\n",
        "optimizer = torch.optim.Adam(model.parameters(), lr=0.05)"
      ],
      "execution_count": null,
      "outputs": []
    },
    {
      "cell_type": "code",
      "metadata": {
        "id": "oh6pj6mNTp8B"
      },
      "source": [
        "# Make inputs and targets\n",
        "X_train = torch.from_numpy(X[:-N//2].astype(np.float32))\n",
        "y_train = torch.from_numpy(Y[:-N//2].astype(np.float32))\n",
        "X_test = torch.from_numpy(X[-N//2:].astype(np.float32))\n",
        "y_test = torch.from_numpy(Y[-N//2:].astype(np.float32))"
      ],
      "execution_count": null,
      "outputs": []
    },
    {
      "cell_type": "code",
      "metadata": {
        "id": "gVsEwwqbTp8F"
      },
      "source": [
        "# move data to GPU\n",
        "X_train, y_train = X_train.to(device), y_train.to(device)\n",
        "X_test, y_test = X_test.to(device), y_test.to(device)"
      ],
      "execution_count": null,
      "outputs": []
    },
    {
      "cell_type": "code",
      "metadata": {
        "id": "YmIkd3EwTs34",
        "colab": {
          "base_uri": "https://localhost:8080/",
          "height": 697
        },
        "outputId": "078034bd-8864-474f-cc32-f394862feb0b"
      },
      "source": [
        "train_losses, test_losses = full_gd(model,\n",
        "                                    criterion,\n",
        "                                    optimizer,\n",
        "                                    X_train,\n",
        "                                    y_train,\n",
        "                                    X_test,\n",
        "                                    y_test)"
      ],
      "execution_count": null,
      "outputs": [
        {
          "output_type": "stream",
          "text": [
            "Epoch 5/200, Train Loss: 1.0504, Test Loss: 1.0707\n",
            "Epoch 10/200, Train Loss: 1.0431, Test Loss: 1.0796\n",
            "Epoch 15/200, Train Loss: 1.0313, Test Loss: 1.1053\n",
            "Epoch 20/200, Train Loss: 1.0185, Test Loss: 1.1022\n",
            "Epoch 25/200, Train Loss: 1.0034, Test Loss: 1.1134\n",
            "Epoch 30/200, Train Loss: 0.9897, Test Loss: 1.1425\n",
            "Epoch 35/200, Train Loss: 0.9716, Test Loss: 1.1853\n",
            "Epoch 40/200, Train Loss: 0.9567, Test Loss: 1.2385\n",
            "Epoch 45/200, Train Loss: 0.9252, Test Loss: 1.2487\n",
            "Epoch 50/200, Train Loss: 0.9145, Test Loss: 1.2927\n",
            "Epoch 55/200, Train Loss: 0.8859, Test Loss: 1.3719\n",
            "Epoch 60/200, Train Loss: 0.8608, Test Loss: 1.4248\n",
            "Epoch 65/200, Train Loss: 0.8484, Test Loss: 1.4558\n",
            "Epoch 70/200, Train Loss: 0.8103, Test Loss: 1.4985\n",
            "Epoch 75/200, Train Loss: 0.7882, Test Loss: 1.5872\n",
            "Epoch 80/200, Train Loss: 0.7674, Test Loss: 1.6328\n",
            "Epoch 85/200, Train Loss: 0.7488, Test Loss: 1.6711\n",
            "Epoch 90/200, Train Loss: 0.7785, Test Loss: 1.7158\n",
            "Epoch 95/200, Train Loss: 0.7609, Test Loss: 1.7120\n",
            "Epoch 100/200, Train Loss: 0.7552, Test Loss: 1.6652\n",
            "Epoch 105/200, Train Loss: 0.7301, Test Loss: 1.7617\n",
            "Epoch 110/200, Train Loss: 0.7075, Test Loss: 1.7885\n",
            "Epoch 115/200, Train Loss: 0.6879, Test Loss: 1.8667\n",
            "Epoch 120/200, Train Loss: 0.6904, Test Loss: 1.9611\n",
            "Epoch 125/200, Train Loss: 0.6831, Test Loss: 1.9015\n",
            "Epoch 130/200, Train Loss: 0.6638, Test Loss: 1.9571\n",
            "Epoch 135/200, Train Loss: 0.6529, Test Loss: 1.9579\n",
            "Epoch 140/200, Train Loss: 0.6379, Test Loss: 2.0449\n",
            "Epoch 145/200, Train Loss: 0.6769, Test Loss: 2.0184\n",
            "Epoch 150/200, Train Loss: 0.6677, Test Loss: 1.9934\n",
            "Epoch 155/200, Train Loss: 0.6617, Test Loss: 1.9224\n",
            "Epoch 160/200, Train Loss: 0.6539, Test Loss: 1.9562\n",
            "Epoch 165/200, Train Loss: 0.6306, Test Loss: 1.9922\n",
            "Epoch 170/200, Train Loss: 0.6262, Test Loss: 2.0379\n",
            "Epoch 175/200, Train Loss: 0.6170, Test Loss: 2.0372\n",
            "Epoch 180/200, Train Loss: 0.6128, Test Loss: 2.1076\n",
            "Epoch 185/200, Train Loss: 0.6333, Test Loss: 2.0343\n",
            "Epoch 190/200, Train Loss: 0.6860, Test Loss: 1.9768\n",
            "Epoch 195/200, Train Loss: 0.6417, Test Loss: 1.9185\n",
            "Epoch 200/200, Train Loss: 0.6176, Test Loss: 1.8868\n"
          ],
          "name": "stdout"
        }
      ]
    },
    {
      "cell_type": "code",
      "metadata": {
        "id": "Gtn9BCEhTwKP",
        "colab": {
          "base_uri": "https://localhost:8080/",
          "height": 282
        },
        "outputId": "2ea886bb-7d13-4610-cfc7-9d216df1f543"
      },
      "source": [
        "plt.plot(train_losses)\n",
        "plt.plot(test_losses)"
      ],
      "execution_count": null,
      "outputs": [
        {
          "output_type": "execute_result",
          "data": {
            "text/plain": [
              "[<matplotlib.lines.Line2D at 0x7f3c1e9da320>]"
            ]
          },
          "metadata": {
            "tags": []
          },
          "execution_count": 167
        },
        {
          "output_type": "display_data",
          "data": {
            "image/png": "[encoded data removed]",
            "text/plain": [
              "<Figure size 432x288 with 1 Axes>"
            ]
          },
          "metadata": {
            "tags": [],
            "needs_background": "light"
          }
        }
      ]
    },
    {
      "cell_type": "code",
      "metadata": {
        "id": "UjvE8rjGUA0w"
      },
      "source": [
        "#one step prediction\n",
        "validation_target = Y\n",
        "validation_predictions = []\n",
        "\n",
        "i = 0\n",
        "\n",
        "X_on_device = torch.from_numpy(X.astype(np.float32)).to(device)\n",
        "\n",
        "while len(validation_predictions) < len(validation_target):\n",
        "  input_ = X_on_device[i].reshape(-1,T,1)\n",
        "  p = model(input_)[0,0].item()\n",
        "  i += 1\n",
        "\n",
        "\n",
        "  validation_predictions.append(p)"
      ],
      "execution_count": null,
      "outputs": []
    },
    {
      "cell_type": "code",
      "metadata": {
        "id": "6jQndv5IVLEw",
        "colab": {
          "base_uri": "https://localhost:8080/",
          "height": 282
        },
        "outputId": "01e951df-cfd3-4019-ea1d-2a03c7880f9e"
      },
      "source": [
        "plt.plot(validation_target, label='forecast target')\n",
        "plt.plot(validation_predictions, label='forecast prediction')\n",
        "plt.legend()\n",
        "# again one step forecast is OK"
      ],
      "execution_count": null,
      "outputs": [
        {
          "output_type": "execute_result",
          "data": {
            "text/plain": [
              "<matplotlib.legend.Legend at 0x7f3c1ec6acf8>"
            ]
          },
          "metadata": {
            "tags": []
          },
          "execution_count": 89
        },
        {
          "output_type": "display_data",
          "data": {
            "image/png": "[encoded data removed]",
            "text/plain": [
              "<Figure size 432x288 with 1 Axes>"
            ]
          },
          "metadata": {
            "tags": [],
            "needs_background": "light"
          }
        }
      ]
    },
    {
      "cell_type": "code",
      "metadata": {
        "id": "yDN2t1WAVPIA"
      },
      "source": [
        "# multistep forcast\n",
        "\n",
        "validation_target = Y[-N//2:]\n",
        "validation_predictions = []\n",
        "\n",
        "last_x = X_test[0].view(T)\n",
        "\n",
        "while len(validation_predictions) < len(validation_target):\n",
        "  input_ = last_x.reshape(-1,T,1)\n",
        "  p = model(input_)\n",
        "  \n",
        "\n",
        "  validation_predictions.append(p[0,0].item())\n",
        "\n",
        "  last_x = torch.cat((last_x[1:],p[0]))\n"
      ],
      "execution_count": null,
      "outputs": []
    },
    {
      "cell_type": "code",
      "metadata": {
        "id": "qPw6EMC6VUg8",
        "colab": {
          "base_uri": "https://localhost:8080/",
          "height": 282
        },
        "outputId": "0c1493dd-774d-4b83-e1bc-81a4e5fba11f"
      },
      "source": [
        "plt.plot(validation_target, label='forecast target')\n",
        "plt.plot(validation_predictions, label='forecast prediction')\n",
        "plt.legend()\n",
        "# Multi step not as good again\n",
        "# stock forecast just based on previous data does not yield the best results!"
      ],
      "execution_count": null,
      "outputs": [
        {
          "output_type": "execute_result",
          "data": {
            "text/plain": [
              "<matplotlib.legend.Legend at 0x7f3c200d6198>"
            ]
          },
          "metadata": {
            "tags": []
          },
          "execution_count": 91
        },
        {
          "output_type": "display_data",
          "data": {
            "image/png": "[encoded data removed]",
            "text/plain": [
              "<Figure size 432x288 with 1 Axes>"
            ]
          },
          "metadata": {
            "tags": [],
            "needs_background": "light"
          }
        }
      ]
    },
    {
      "cell_type": "code",
      "metadata": {
        "id": "CDMMHM34VVrQ"
      },
      "source": [
        "input_data = df[[\"open\",\"high\",\"low\",\"close\",\"volume\"]].values\n",
        "targets = df[\"Return\"].values"
      ],
      "execution_count": null,
      "outputs": []
    },
    {
      "cell_type": "code",
      "metadata": {
        "id": "QxUPKKaigb98"
      },
      "source": [
        "T = 10\n",
        "D = input_data.shape[1]\n",
        "N  = len(input_data) - T"
      ],
      "execution_count": null,
      "outputs": []
    },
    {
      "cell_type": "code",
      "metadata": {
        "id": "i7dqoTB4glGc"
      },
      "source": [
        "Ntrain = len(input_data) * 2//3\n",
        "scaler = StandardScaler()\n",
        "scaler.fit(input_data[:Ntrain + T - 1])\n",
        "input_data = scaler.transform(input_data)"
      ],
      "execution_count": null,
      "outputs": []
    },
    {
      "cell_type": "code",
      "metadata": {
        "id": "lAHBYUyPglhU"
      },
      "source": [
        "X_train = np.zeros((Ntrain, T , D))\n",
        "y_train = np.zeros((Ntrain, 1))\n",
        "\n",
        "for t in range(Ntrain):\n",
        "  X_train[t,:,:] = input_data[t:t+T]\n",
        "  y_train[t] = (targets[t+T] > 0 )\n",
        "\n"
      ],
      "execution_count": null,
      "outputs": []
    },
    {
      "cell_type": "code",
      "metadata": {
        "id": "EANSAeeHiCx9",
        "colab": {
          "base_uri": "https://localhost:8080/",
          "height": 34
        },
        "outputId": "6458facf-1b55-4447-d52f-738148cc57de"
      },
      "source": [
        "X_train.shape"
      ],
      "execution_count": null,
      "outputs": [
        {
          "output_type": "execute_result",
          "data": {
            "text/plain": [
              "(839, 10, 5)"
            ]
          },
          "metadata": {
            "tags": []
          },
          "execution_count": 161
        }
      ]
    },
    {
      "cell_type": "code",
      "metadata": {
        "id": "6PtPDJ6SkYh3"
      },
      "source": [
        "X_test = np.zeros((N - Ntrain, T , D))\n",
        "y_test = np.zeros((N- Ntrain, 1))\n",
        "\n",
        "for u in range(N-Ntrain):\n",
        "  t = u + Ntrain\n",
        "  X_test[u,:,:] = input_data[t:t+T]\n",
        "  y_test[u] = (targets[t+T] > 0 )\n"
      ],
      "execution_count": null,
      "outputs": []
    },
    {
      "cell_type": "code",
      "metadata": {
        "id": "H44lrXbfqEVa",
        "colab": {
          "base_uri": "https://localhost:8080/",
          "height": 85
        },
        "outputId": "2e601b61-604e-4f70-d49e-73be300224ea"
      },
      "source": [
        "model = RNN(5,50,2,1)\n",
        "model.to(device)"
      ],
      "execution_count": null,
      "outputs": [
        {
          "output_type": "execute_result",
          "data": {
            "text/plain": [
              "RNN(\n",
              "  (rnn): LSTM(5, 50, num_layers=2, batch_first=True)\n",
              "  (fc): Linear(in_features=50, out_features=1, bias=True)\n",
              ")"
            ]
          },
          "metadata": {
            "tags": []
          },
          "execution_count": 163
        }
      ]
    },
    {
      "cell_type": "code",
      "metadata": {
        "id": "BNsXVo623bCd"
      },
      "source": [
        "# Make inputs and targets\n",
        "X_train = torch.from_numpy(X_train.astype(np.float32))\n",
        "y_train = torch.from_numpy(y_train.astype(np.float32))\n",
        "X_test = torch.from_numpy(X_test.astype(np.float32))\n",
        "y_test = torch.from_numpy(y_test.astype(np.float32))"
      ],
      "execution_count": null,
      "outputs": []
    },
    {
      "cell_type": "code",
      "metadata": {
        "id": "kx5h1cuk5YMd"
      },
      "source": [
        "criterion = nn.BCEWithLogitsLoss()\n",
        "optimizer = torch.optim.Adam(model.parameters(), lr=0.01)"
      ],
      "execution_count": null,
      "outputs": []
    },
    {
      "cell_type": "code",
      "metadata": {
        "id": "07kEHo-R52G1",
        "colab": {
          "base_uri": "https://localhost:8080/",
          "height": 697
        },
        "outputId": "5af7e060-0cdb-4a9c-f93f-13616d0df2b4"
      },
      "source": [
        "train_losses, test_losses = full_gd(model,\n",
        "                                    criterion,\n",
        "                                    optimizer,\n",
        "                                    X_train,\n",
        "                                    y_train,\n",
        "                                    X_test,\n",
        "                                    y_test)"
      ],
      "execution_count": null,
      "outputs": [
        {
          "output_type": "stream",
          "text": [
            "Epoch 5/200, Train Loss: 0.6921, Test Loss: 0.6928\n",
            "Epoch 10/200, Train Loss: 0.6912, Test Loss: 0.6950\n",
            "Epoch 15/200, Train Loss: 0.6898, Test Loss: 0.6940\n",
            "Epoch 20/200, Train Loss: 0.6867, Test Loss: 0.6944\n",
            "Epoch 25/200, Train Loss: 0.6820, Test Loss: 0.6950\n",
            "Epoch 30/200, Train Loss: 0.6771, Test Loss: 0.6935\n",
            "Epoch 35/200, Train Loss: 0.6689, Test Loss: 0.7581\n",
            "Epoch 40/200, Train Loss: 0.6662, Test Loss: 0.6942\n",
            "Epoch 45/200, Train Loss: 0.6563, Test Loss: 0.6932\n",
            "Epoch 50/200, Train Loss: 0.6456, Test Loss: 0.6965\n",
            "Epoch 55/200, Train Loss: 0.6221, Test Loss: 0.7009\n",
            "Epoch 60/200, Train Loss: 0.5979, Test Loss: 0.7024\n",
            "Epoch 65/200, Train Loss: 0.5636, Test Loss: 0.7115\n",
            "Epoch 70/200, Train Loss: 0.5397, Test Loss: 0.7213\n",
            "Epoch 75/200, Train Loss: 0.5079, Test Loss: 0.7539\n",
            "Epoch 80/200, Train Loss: 0.4700, Test Loss: 0.7836\n",
            "Epoch 85/200, Train Loss: 0.4251, Test Loss: 0.7835\n",
            "Epoch 90/200, Train Loss: 0.4247, Test Loss: 0.7849\n",
            "Epoch 95/200, Train Loss: 0.3801, Test Loss: 0.8127\n",
            "Epoch 100/200, Train Loss: 0.3368, Test Loss: 0.8399\n",
            "Epoch 105/200, Train Loss: 0.3203, Test Loss: 0.8633\n",
            "Epoch 110/200, Train Loss: 0.3270, Test Loss: 0.9247\n",
            "Epoch 115/200, Train Loss: 0.3422, Test Loss: 0.9528\n",
            "Epoch 120/200, Train Loss: 0.3281, Test Loss: 1.0012\n",
            "Epoch 125/200, Train Loss: 0.2810, Test Loss: 1.0061\n",
            "Epoch 130/200, Train Loss: 0.2567, Test Loss: 1.0470\n",
            "Epoch 135/200, Train Loss: 0.2437, Test Loss: 1.0065\n",
            "Epoch 140/200, Train Loss: 0.2216, Test Loss: 1.0690\n",
            "Epoch 145/200, Train Loss: 0.2048, Test Loss: 1.0618\n",
            "Epoch 150/200, Train Loss: 0.1983, Test Loss: 1.2361\n",
            "Epoch 155/200, Train Loss: 0.1860, Test Loss: 1.2779\n",
            "Epoch 160/200, Train Loss: 0.1839, Test Loss: 1.1768\n",
            "Epoch 165/200, Train Loss: 0.1743, Test Loss: 1.2609\n",
            "Epoch 170/200, Train Loss: 0.1581, Test Loss: 1.4232\n",
            "Epoch 175/200, Train Loss: 0.1549, Test Loss: 1.3029\n",
            "Epoch 180/200, Train Loss: 0.1524, Test Loss: 1.5319\n",
            "Epoch 185/200, Train Loss: 0.1282, Test Loss: 1.6760\n",
            "Epoch 190/200, Train Loss: 0.1104, Test Loss: 1.7867\n",
            "Epoch 195/200, Train Loss: 0.0928, Test Loss: 1.8577\n",
            "Epoch 200/200, Train Loss: 0.1623, Test Loss: 1.9282\n"
          ],
          "name": "stdout"
        }
      ]
    },
    {
      "cell_type": "code",
      "metadata": {
        "id": "c8fSJpGM6LU9"
      },
      "source": [
        "#AUTOREGRESSIVE RNN MODELS\n",
        "class RNN(nn.Module):\n",
        "  def __init__(self, n_inputs, n_hidden, n_rnnlayers,n_outputs):\n",
        "    super(RNN,self).__init__()\n",
        "    self.D = n_inputs\n",
        "    self.M = n_hidden\n",
        "    self.L = n_rnnlayers\n",
        "    self.K = n_outputs\n",
        "\n",
        "    self.rnn = nn.LSTM(input_size=self.D, hidden_size=self.M, num_layers=self.L, batch_first=True)\n",
        "    self.fc = nn.Linear(self.M, self.K)\n",
        "\n",
        "  def forward(self,X):\n",
        "    h0 = torch.zeros(self.L, X.size(0),self.M).to(device)\n",
        "    c0 = torch.zeros(self.L, X.size(0),self.M).to(device)\n",
        "\n",
        "    out,_ = self.rnn(X,(h0,c0))\n",
        "\n",
        "    out = self.fc(out[:,-1,:])\n",
        "    return out"
      ],
      "execution_count": null,
      "outputs": []
    },
    {
      "cell_type": "code",
      "metadata": {
        "id": "BMSmyDzD673G"
      },
      "source": [
        ""
      ],
      "execution_count": null,
      "outputs": []
    },
    {
      "cell_type": "code",
      "metadata": {
        "id": "fbHZ_csp673J"
      },
      "source": [
        ""
      ],
      "execution_count": null,
      "outputs": []
    },
    {
      "cell_type": "code",
      "metadata": {
        "id": "LEQ-F2-5673M"
      },
      "source": [
        "# move data to GPU\n",
        "X_train, y_train = X_train.to(device), y_train.to(device)\n",
        "X_test, y_test = X_test.to(device), y_test.to(device)"
      ],
      "execution_count": null,
      "outputs": []
    }
  ]
}